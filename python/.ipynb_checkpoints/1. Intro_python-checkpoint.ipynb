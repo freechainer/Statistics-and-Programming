{
 "cells": [
  {
   "cell_type": "code",
   "execution_count": 11,
   "metadata": {
    "scrolled": true
   },
   "outputs": [
    {
     "name": "stdout",
     "output_type": "stream",
     "text": [
      "안녕하세요!\n",
      "programming에 입문하신 것을 축하드립니다.\n"
     ]
    }
   ],
   "source": [
    "print(\"안녕하세요!\")\n",
    "print(\"programming에 입문하신 것을 축하드립니다.\")"
   ]
  },
  {
   "cell_type": "code",
   "execution_count": 12,
   "metadata": {
    "scrolled": true
   },
   "outputs": [
    {
     "name": "stdout",
     "output_type": "stream",
     "text": [
      "314.1592\n",
      "12.34\n"
     ]
    }
   ],
   "source": [
    "print(3.141592*10.0*10.0)\n",
    "print((1/100)*1234)"
   ]
  },
  {
   "cell_type": "code",
   "execution_count": 13,
   "metadata": {},
   "outputs": [
    {
     "name": "stdout",
     "output_type": "stream",
     "text": [
      "강아지고양이\n"
     ]
    }
   ],
   "source": [
    "print(\"강아지\"+\"고양이\")"
   ]
  },
  {
   "cell_type": "code",
   "execution_count": 14,
   "metadata": {},
   "outputs": [
    {
     "name": "stdout",
     "output_type": "stream",
     "text": [
      "결과값은 14 입니다.\n"
     ]
    }
   ],
   "source": [
    "print(\"결과값은\",2*7,\"입니다.\")"
   ]
  },
  {
   "cell_type": "code",
   "execution_count": 16,
   "metadata": {
    "scrolled": true
   },
   "outputs": [],
   "source": [
    "import turtle\n",
    "\n",
    "colors = [\"red\",\"purple\",\"blue\",\"green\",\"yellow\",\"orange\"]\n",
    "t = turtle.Turtle()\n",
    "\n",
    "turtle.bgcolor(\"black\")\n",
    "t.speed(0)\n",
    "t.width(3)\n",
    "length = 10\n",
    "\n",
    "while length < 500:\n",
    "    t.forward(length)\n",
    "    t.pencolor(colors[length%6])\n",
    "    t.right(89)\n",
    "    length += 5"
   ]
  },
  {
   "cell_type": "code",
   "execution_count": 4,
   "metadata": {},
   "outputs": [
    {
     "name": "stdout",
     "output_type": "stream",
     "text": [
      "안녕하세요? 여러분\n",
      "저는 파이썬을 무척 좋아합니다.\n",
      "9*8은 72 입니다.\n",
      "안녕히 계세요.\n"
     ]
    }
   ],
   "source": [
    "print(\"안녕하세요? 여러분\")\n",
    "print('저는 파이썬을 무척 좋아합니다.')\n",
    "print(\"9*8은\", 9*8, \"입니다.\")\n",
    "print(\"안녕히 계세요.\")"
   ]
  },
  {
   "cell_type": "code",
   "execution_count": 3,
   "metadata": {},
   "outputs": [
    {
     "name": "stdout",
     "output_type": "stream",
     "text": [
      "dog   cat\n",
      "결과값은 12\n"
     ]
    }
   ],
   "source": [
    "print(\"dog\",\" \",\"cat\")\n",
    "print('결과값은', 3*4)"
   ]
  },
  {
   "cell_type": "code",
   "execution_count": null,
   "metadata": {},
   "outputs": [],
   "source": []
  }
 ],
 "metadata": {
  "kernelspec": {
   "display_name": "Python 3.8.2 64-bit",
   "language": "python",
   "name": "python38264bit4094e939a8b946f98cca8c730a8cf25e"
  },
  "language_info": {
   "codemirror_mode": {
    "name": "ipython",
    "version": 3
   },
   "file_extension": ".py",
   "mimetype": "text/x-python",
   "name": "python",
   "nbconvert_exporter": "python",
   "pygments_lexer": "ipython3",
   "version": "3.8.5"
  }
 },
 "nbformat": 4,
 "nbformat_minor": 4
}
