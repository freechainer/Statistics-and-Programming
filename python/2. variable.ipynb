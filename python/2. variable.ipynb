{
 "cells": [
  {
   "cell_type": "code",
   "execution_count": 2,
   "metadata": {},
   "outputs": [
    {
     "name": "stdout",
     "output_type": "stream",
     "text": [
      "200\n"
     ]
    }
   ],
   "source": [
    "x= 100\n",
    "x= 200\n",
    "print(x)"
   ]
  },
  {
   "cell_type": "code",
   "execution_count": 3,
   "metadata": {},
   "outputs": [],
   "source": [
    "x = 100\n",
    "y = 200"
   ]
  },
  {
   "cell_type": "code",
   "execution_count": 5,
   "metadata": {},
   "outputs": [
    {
     "name": "stdout",
     "output_type": "stream",
     "text": [
      "300\n"
     ]
    }
   ],
   "source": [
    "sum = x+y\n",
    "print(sum)"
   ]
  },
  {
   "cell_type": "code",
   "execution_count": 7,
   "metadata": {},
   "outputs": [
    {
     "data": {
      "text/plain": [
       "3"
      ]
     },
     "execution_count": 7,
     "metadata": {},
     "output_type": "execute_result"
    }
   ],
   "source": [
    "a=3\n",
    "a"
   ]
  },
  {
   "cell_type": "code",
   "execution_count": 8,
   "metadata": {},
   "outputs": [
    {
     "data": {
      "text/plain": [
       "-3"
      ]
     },
     "execution_count": 8,
     "metadata": {},
     "output_type": "execute_result"
    }
   ],
   "source": [
    "b = -3\n",
    "b"
   ]
  },
  {
   "cell_type": "code",
   "execution_count": 10,
   "metadata": {},
   "outputs": [
    {
     "data": {
      "text/plain": [
       "28"
      ]
     },
     "execution_count": 10,
     "metadata": {},
     "output_type": "execute_result"
    }
   ],
   "source": [
    "heoinhaeng = 28\n",
    "heoinhaeng"
   ]
  },
  {
   "cell_type": "code",
   "execution_count": 11,
   "metadata": {},
   "outputs": [],
   "source": [
    "name = \"허인행\"\n",
    "address = \"뉴욕 월스트리트\""
   ]
  },
  {
   "cell_type": "code",
   "execution_count": 12,
   "metadata": {},
   "outputs": [
    {
     "name": "stdout",
     "output_type": "stream",
     "text": [
      "허인행\n",
      "뉴욕 월스트리트\n"
     ]
    }
   ],
   "source": [
    "print(name)\n",
    "print(address)"
   ]
  },
  {
   "cell_type": "code",
   "execution_count": 13,
   "metadata": {},
   "outputs": [
    {
     "name": "stdout",
     "output_type": "stream",
     "text": [
      "13\n",
      "76\n"
     ]
    }
   ],
   "source": [
    "x = 7\n",
    "y = 6\n",
    "print(x+y)\n",
    "\n",
    "x = '7'\n",
    "y = '6'\n",
    "print(x+y)"
   ]
  },
  {
   "cell_type": "code",
   "execution_count": 14,
   "metadata": {},
   "outputs": [
    {
     "name": "stdout",
     "output_type": "stream",
     "text": [
      "['False', 'None', 'True', 'and', 'as', 'assert', 'async', 'await', 'break', 'class', 'continue', 'def', 'del', 'elif', 'else', 'except', 'finally', 'for', 'from', 'global', 'if', 'import', 'in', 'is', 'lambda', 'nonlocal', 'not', 'or', 'pass', 'raise', 'return', 'try', 'while', 'with', 'yield']\n"
     ]
    }
   ],
   "source": [
    "import keyword\n",
    "\n",
    "print(keyword.kwlist)"
   ]
  },
  {
   "cell_type": "code",
   "execution_count": 16,
   "metadata": {},
   "outputs": [
    {
     "data": {
      "text/plain": [
       "11"
      ]
     },
     "execution_count": 16,
     "metadata": {},
     "output_type": "execute_result"
    }
   ],
   "source": [
    "score = 10\n",
    "score = score + 1\n",
    "score"
   ]
  },
  {
   "cell_type": "code",
   "execution_count": 18,
   "metadata": {},
   "outputs": [
    {
     "name": "stdout",
     "output_type": "stream",
     "text": [
      "100 과 200 의 합은 300 입니다.\n"
     ]
    }
   ],
   "source": [
    "x = 100\n",
    "y = 200\n",
    "sum = x+y\n",
    "print(x, \"과\", y, \"의 합은\", sum, \"입니다.\")"
   ]
  },
  {
   "cell_type": "code",
   "execution_count": 19,
   "metadata": {},
   "outputs": [
    {
     "data": {
      "text/plain": [
       "int"
      ]
     },
     "execution_count": 19,
     "metadata": {},
     "output_type": "execute_result"
    }
   ],
   "source": [
    "a =176\n",
    "type(a)"
   ]
  },
  {
   "cell_type": "code",
   "execution_count": 20,
   "metadata": {},
   "outputs": [
    {
     "data": {
      "text/plain": [
       "float"
      ]
     },
     "execution_count": 20,
     "metadata": {},
     "output_type": "execute_result"
    }
   ],
   "source": [
    "type(176.9)"
   ]
  },
  {
   "cell_type": "code",
   "execution_count": 28,
   "metadata": {},
   "outputs": [
    {
     "name": "stdout",
     "output_type": "stream",
     "text": [
      "<class 'int'>\n",
      "<class 'str'>\n",
      "<class 'float'>\n"
     ]
    }
   ],
   "source": [
    "print(type(int(4*7.1)))\n",
    "print(type(str(4+7.1)))\n",
    "print(type(4+7.1))"
   ]
  },
  {
   "cell_type": "code",
   "execution_count": 30,
   "metadata": {},
   "outputs": [
    {
     "data": {
      "text/plain": [
       "1"
      ]
     },
     "execution_count": 30,
     "metadata": {},
     "output_type": "execute_result"
    }
   ],
   "source": [
    "a = True\n",
    "a\n",
    "int(a)"
   ]
  },
  {
   "cell_type": "code",
   "execution_count": 31,
   "metadata": {},
   "outputs": [
    {
     "name": "stdout",
     "output_type": "stream",
     "text": [
      "아무 숫자나 입력하세요 : 2020\n"
     ]
    },
    {
     "data": {
      "text/plain": [
       "'2020'"
      ]
     },
     "execution_count": 31,
     "metadata": {},
     "output_type": "execute_result"
    }
   ],
   "source": [
    "input(\"아무 숫자나 입력하세요 : \")"
   ]
  },
  {
   "cell_type": "code",
   "execution_count": 33,
   "metadata": {},
   "outputs": [
    {
     "name": "stdout",
     "output_type": "stream",
     "text": [
      "아무 숫자나 입력하세요 : 2020\n"
     ]
    },
    {
     "data": {
      "text/plain": [
       "'2020'"
      ]
     },
     "execution_count": 33,
     "metadata": {},
     "output_type": "execute_result"
    }
   ],
   "source": [
    "a = input(\"아무 숫자나 입력하세요 : \")\n",
    "a"
   ]
  },
  {
   "cell_type": "code",
   "execution_count": 36,
   "metadata": {},
   "outputs": [
    {
     "name": "stdout",
     "output_type": "stream",
     "text": [
      "Please enter your name: james\n",
      "hey james how are you?\n",
      "welcome to python!\n"
     ]
    }
   ],
   "source": [
    "name = input(\"Please enter your name: \")\n",
    "print(\"hey\",name, \"how are you?\")\n",
    "print('welcome to python!')"
   ]
  },
  {
   "cell_type": "code",
   "execution_count": 41,
   "metadata": {},
   "outputs": [
    {
     "name": "stdout",
     "output_type": "stream",
     "text": [
      "please, your name : 허인행\n",
      "please, your name : 허용\n",
      "please, your name : 반충기\n",
      "허인행 님 올 2020년 혁신성장청년인재집중양성사업에 참여에 감사드립니다.\n",
      "허용 님 올 2020년 혁신성장청년인재집중양성사업에 참여하여 좋은 결과 있기를 바랍니다.\n",
      "반충기 님 인생은 한방입니다. 매사에 최선을 다하여 좋은 기회가 있으면 놓치지 말고 확 잡으세요.\n"
     ]
    }
   ],
   "source": [
    "name1 = input('please, your name : ')\n",
    "name2 = input('please, your name : ')\n",
    "name3 = input('please, your name : ')\n",
    "print(name1, \"님 올 2020년 혁신성장청년인재집중양성사업에 참여에 감사드립니다.\")\n",
    "print(name2, \"님 올 2020년 혁신성장청년인재집중양성사업에 참여하여 좋은 결과 있기를 바랍니다.\")\n",
    "print(name3, \"님 인생은 한방입니다. 매사에 최선을 다하여 좋은 기회가 있으면 놓치지 말고 확 잡으세요.\")\n"
   ]
  },
  {
   "cell_type": "code",
   "execution_count": 50,
   "metadata": {},
   "outputs": [
    {
     "name": "stdout",
     "output_type": "stream",
     "text": [
      "당신의 나이는 몇 살입니까?28\n",
      "당신은 28 년을 살았습니다.\n"
     ]
    }
   ],
   "source": [
    "age = input(\"당신의 나이는 몇 살입니까?\")\n",
    "print(\"당신은\", age, \"년을 살았습니다.\")"
   ]
  },
  {
   "cell_type": "code",
   "execution_count": 57,
   "metadata": {},
   "outputs": [
    {
     "name": "stdout",
     "output_type": "stream",
     "text": [
      "################\n",
      "#                                    #\n",
      "#   부동산 매물 광고   #\n",
      "#                                    #\n",
      "################\n",
      "서울시 종로구에 위치한 아주 좋은 아파트가 매물로 나왔습니다.\n",
      "이 아파트는 3개의 방을 가지고 있으며 가격은 9억원 입니다.9억원\n"
     ]
    },
    {
     "data": {
      "text/plain": [
       "'9억원'"
      ]
     },
     "execution_count": 57,
     "metadata": {},
     "output_type": "execute_result"
    }
   ],
   "source": [
    "print('################')\n",
    "print('#                                    #')\n",
    "print('#   부동산 매물 광고   #')\n",
    "print('#                                    #')\n",
    "print('################')\n",
    "input('서울시 종로구에 위치한 아주 좋은 아파트가 매물로 나왔습니다.''\\n''이 아파트는 3개의 방을 가지고 있으며 가격은 9억원 입니다.')"
   ]
  },
  {
   "cell_type": "code",
   "execution_count": 60,
   "metadata": {},
   "outputs": [
    {
     "name": "stdout",
     "output_type": "stream",
     "text": [
      "첫 번째 정수를 입력하시오: 777\n",
      "두 번째 정수를 입력하시오: 333\n",
      "777 과 333 의 합은 1110 입니다.\n"
     ]
    }
   ],
   "source": [
    "x = int(input(\"첫 번째 정수를 입력하시오: \"))\n",
    "y = int(input(\"두 번째 정수를 입력하시오: \"))\n",
    "sum = x+y\n",
    "print(x, \"과\", y, \"의 합은\", sum, \"입니다.\")"
   ]
  },
  {
   "cell_type": "code",
   "execution_count": 85,
   "metadata": {},
   "outputs": [
    {
     "name": "stdout",
     "output_type": "stream",
     "text": [
      "please, your tall : 174\n",
      "please, your weight : 60\n"
     ]
    },
    {
     "data": {
      "text/plain": [
       "234.0"
      ]
     },
     "execution_count": 85,
     "metadata": {},
     "output_type": "execute_result"
    }
   ],
   "source": [
    "height = int(input(\"please, your tall : \"))\n",
    "weight = float(input(\"please, your weight : \"))\n",
    "\n",
    "height+weight"
   ]
  },
  {
   "cell_type": "code",
   "execution_count": 87,
   "metadata": {},
   "outputs": [
    {
     "name": "stdout",
     "output_type": "stream",
     "text": [
      "당신의 키는?174\n",
      "당신의 적정 몸무게는 74 kg 입니다.\n"
     ]
    }
   ],
   "source": [
    "height = int(input(\"당신의 키는?\"))\n",
    "print(\"당신의 적정 몸무게는\", height-100, \"kg 입니다.\")"
   ]
  },
  {
   "cell_type": "code",
   "execution_count": 101,
   "metadata": {},
   "outputs": [
    {
     "name": "stdout",
     "output_type": "stream",
     "text": [
      "경기장은 어디입니까?잠실야구장\n",
      "이긴팀은 어디입니까?한화 이글스\n",
      "진팀은 어디입니까?두산 베어스\n",
      "우수선수는 누구입니까?\n",
      "스코어는 몇대몇입니까?8:2\n",
      "\n",
      "\n",
      "=======================================\n",
      "오늘 잠실야구장 에서 야구 경기가 열렸습니다. \n",
      "\n",
      "한화 이글스 와 두산 베어스 는 치열한 공방전을 펼쳤습니다. \n",
      "\n",
      " 이 맹활약을 하였습니다. \n",
      "\n",
      "결국 한화 이글스 가 두산 베어스 를 8:2 로 이겼습니다.\n",
      "=======================================\n"
     ]
    }
   ],
   "source": [
    "ground=input('경기장은 어디입니까?')\n",
    "win=input('이긴팀은 어디입니까?')\n",
    "lose=input('진팀은 어디입니까?')\n",
    "mvp=input('우수선수는 누구입니까?')\n",
    "score=input('스코어는 몇대몇입니까?')\n",
    "\n",
    "print('\\n')\n",
    "print(\"=======================================\")\n",
    "print('오늘', ground, '에서 야구 경기가 열렸습니다.','\\n')\n",
    "print(win,'와', lose,'는 치열한 공방전을 펼쳤습니다.','\\n')\n",
    "print(mvp,'이 맹활약을 하였습니다.','\\n')\n",
    "print('결국',win,'가',lose,'를',score,'로 이겼습니다.')\n",
    "print(\"=======================================\")"
   ]
  },
  {
   "cell_type": "code",
   "execution_count": 106,
   "metadata": {},
   "outputs": [
    {
     "name": "stdout",
     "output_type": "stream",
     "text": [
      "이름을 입력허시오: 허인행\n",
      "허인행 씨, 안녕하세요? \n",
      "파이썬에 오신 것을 환영합니다.\n",
      "첫 번째 정수를 입력하시오: 500\n",
      "두 번째 정수를 입력하시오: 300\n",
      "500 과 300 의 합은 800 입니다.\n"
     ]
    }
   ],
   "source": [
    "name = input(\"이름을 입력허시오: \")\n",
    "print(name,'씨, 안녕하세요?','\\n''파이썬에 오신 것을 환영합니다.')\n",
    "int1=int(input('첫 번째 정수를 입력하시오: '))\n",
    "int2=int(input('두 번째 정수를 입력하시오: '))\n",
    "print(int1,'과',int2,'의 합은',int1+int2,'입니다.')"
   ]
  }
 ],
 "metadata": {
  "kernelspec": {
   "display_name": "Python 3.8.2 64-bit",
   "language": "python",
   "name": "python38264bit4094e939a8b946f98cca8c730a8cf25e"
  },
  "language_info": {
   "codemirror_mode": {
    "name": "ipython",
    "version": 3
   },
   "file_extension": ".py",
   "mimetype": "text/x-python",
   "name": "python",
   "nbconvert_exporter": "python",
   "pygments_lexer": "ipython3",
   "version": "3.8.5"
  }
 },
 "nbformat": 4,
 "nbformat_minor": 4
}
